{
 "cells": [
  {
   "cell_type": "markdown",
   "metadata": {},
   "source": [
    "### Display Sample Records"
   ]
  },
  {
   "cell_type": "code",
   "execution_count": 1,
   "metadata": {},
   "outputs": [],
   "source": [
    "import gzip\n",
    "import json\n",
    "import re\n",
    "import os\n",
    "import sys\n",
    "import numpy as np\n",
    "import pandas as pd"
   ]
  },
  {
   "cell_type": "markdown",
   "metadata": {},
   "source": [
    "Specify directory"
   ]
  },
  {
   "cell_type": "code",
   "execution_count": 2,
   "metadata": {},
   "outputs": [],
   "source": [
    "DIR = '../data/external/'"
   ]
  },
  {
   "cell_type": "markdown",
   "metadata": {},
   "source": [
    "Funtion loading datasets"
   ]
  },
  {
   "cell_type": "code",
   "execution_count": 5,
   "metadata": {},
   "outputs": [],
   "source": [
    "def load_data(file_name, head=500):\n",
    "    count = 0\n",
    "    data = []\n",
    "    with gzip.open(file_name) as fin:\n",
    "        for I in fin:\n",
    "            d = json.loads(I)\n",
    "            count += 1\n",
    "            data.append(d)\n",
    "            \n",
    "            # break if reaches the 100th line\n",
    "            if (head is not None) and (count > head):\n",
    "                break\n",
    "    return data"
   ]
  },
  {
   "cell_type": "markdown",
   "metadata": {},
   "source": [
    "Load and display sample records of books/interations/reviews"
   ]
  },
  {
   "cell_type": "code",
   "execution_count": 6,
   "metadata": {},
   "outputs": [],
   "source": [
    "books = load_data(os.path.join(DIR, 'goodreads_books_history_biography.json.gz'))\n",
    "interactions = load_data(os.path.join(DIR, 'goodreads_interactions_history_biography.json.gz'))\n",
    "reviews = load_data(os.path.join(DIR, 'goodreads_reviews_history_biography.json.gz'))"
   ]
  },
  {
   "cell_type": "code",
   "execution_count": 7,
   "metadata": {},
   "outputs": [
    {
     "name": "stdout",
     "output_type": "stream",
     "text": [
      " == sample record (books) ==\n"
     ]
    },
    {
     "data": {
      "text/plain": [
       "{'isbn': '',\n",
       " 'text_reviews_count': '3',\n",
       " 'series': ['678328'],\n",
       " 'country_code': 'US',\n",
       " 'language_code': 'en-GB',\n",
       " 'popular_shelves': [{'count': '162', 'name': 'to-read'},\n",
       "  {'count': '2', 'name': 'first-reads'},\n",
       "  {'count': '1', 'name': 'anthony'},\n",
       "  {'count': '1', 'name': 'review-for-blog'},\n",
       "  {'count': '1', 'name': '2013-read'},\n",
       "  {'count': '1', 'name': 'reviewed'},\n",
       "  {'count': '1', 'name': 'books-to-reccomend-to-yr-5-6-kids'},\n",
       "  {'count': '1', 'name': 'to-read-own_historical'},\n",
       "  {'count': '1', 'name': 'to-read_historical'},\n",
       "  {'count': '1', 'name': 'setting-ancient'},\n",
       "  {'count': '1', 'name': 'kindle_-own'},\n",
       "  {'count': '1', 'name': 'genre_young-adult_children'},\n",
       "  {'count': '1', 'name': 'genre_historical-fantasy-timetravel'},\n",
       "  {'count': '1', 'name': 'wish-list-2013'},\n",
       "  {'count': '1', 'name': 'childrens'},\n",
       "  {'count': '1', 'name': 'comp-entry'},\n",
       "  {'count': '1', 'name': 'random'}],\n",
       " 'asin': 'B00BF02VWE',\n",
       " 'is_ebook': 'true',\n",
       " 'average_rating': '4.38',\n",
       " 'kindle_asin': 'B00BF02VWE',\n",
       " 'similar_books': [],\n",
       " 'description': \"Matthew and Mason are on vacation in Greece with their parents. While exploring the ruins at Knossos Palace on the island of Crete, they wander off and suddenly find themselves at Knossos in its prime, 4,000 years ago, when the Minoans were in power. Captured by guards, they barely escape execution and are forced to join a team of slaves who are training as bull dancers. That means they have to dance with a live bull in front of Minoan royalty. Mason is picked to be a bull leaper along with a girl named Bracche. They have to leap onto the bull's back and off again without getting gored. Will they be able to survive this ordeal, and is there any chance they can escape and take the other members of their team with them?\",\n",
       " 'format': 'Kindle Edition',\n",
       " 'link': 'https://www.goodreads.com/book/show/17372320-dancing-with-bulls',\n",
       " 'authors': [{'author_id': '155607', 'role': ''}],\n",
       " 'publisher': 'Createspace',\n",
       " 'num_pages': '50',\n",
       " 'publication_day': '11',\n",
       " 'isbn13': '',\n",
       " 'publication_month': '2',\n",
       " 'edition_information': '',\n",
       " 'publication_year': '2013',\n",
       " 'url': 'https://www.goodreads.com/book/show/17372320-dancing-with-bulls',\n",
       " 'image_url': 'https://images.gr-assets.com/books/1363586341m/17372320.jpg',\n",
       " 'book_id': '17372320',\n",
       " 'ratings_count': '3',\n",
       " 'work_id': '24159138',\n",
       " 'title': 'Dancing with Bulls',\n",
       " 'title_without_series': 'Dancing with Bulls'}"
      ]
     },
     "metadata": {},
     "output_type": "display_data"
    },
    {
     "name": "stdout",
     "output_type": "stream",
     "text": [
      " == sample record (interactions) ==\n"
     ]
    },
    {
     "data": {
      "text/plain": [
       "{'user_id': '8842281e1d1347389f2ab93d60773d4d',\n",
       " 'book_id': '1111',\n",
       " 'review_id': '16b0893c7dda0e7a9e3855d33e5c6e92',\n",
       " 'is_read': False,\n",
       " 'rating': 0,\n",
       " 'review_text_incomplete': '',\n",
       " 'date_added': 'Sat Jan 30 21:57:15 -0800 2010',\n",
       " 'date_updated': 'Sat Jan 30 21:57:15 -0800 2010',\n",
       " 'read_at': '',\n",
       " 'started_at': ''}"
      ]
     },
     "metadata": {},
     "output_type": "display_data"
    },
    {
     "name": "stdout",
     "output_type": "stream",
     "text": [
      " == sample record (reviews) ==\n"
     ]
    },
    {
     "data": {
      "text/plain": [
       "{'user_id': 'b54c83f02c748fe75ed309e1e12eace2',\n",
       " 'book_id': '9433209',\n",
       " 'review_id': '3e7ca8c6d1763898af45106142ce11b3',\n",
       " 'rating': 2,\n",
       " 'review_text': \"l nstTy` 'n nnkr 'n l`y'l@ lmlk@ bh mthl m fy lkthyr mn bywtn mn tnqDt tSyb lmjmtm` l`rby lmkhmly khS@ , wlkn mn lwDH@ bshhd@ lmw'lf@ lm`rwfh bHqdh lmt'Sl llmjtm` lmslm .. 'n rwy@ lqS@ (l'myr@) hy fy l'ss mkhtlh nw`an m whdh l'mr wDH mn lbdy@ sw knt lqS@ Hqyqy@ 'w mlfqh ... \\n l y`nyny m yHdth kthyr dkhl lqSwr lmlky@ wlkn t`nyny lmw'lf@ lty ttnql mr@ mn ls`wdy@ l~ fGnstn l~ l`rq mntqd@ wbHth@ `n kl mthlb fy mjtm`tn wlw 'nh skhrt jz mn hdhh lTq@ lslby@ lky tmn` jry'm jysh bldh wsTwth wmsndth llZlm@ fy bldn lkn l'mr 'fDl lh wln kthyran \\n lktb mn lnHy@ ltshwyqy@ wlsrdy@ mmtz wmsly\",\n",
       " 'date_added': 'Thu Nov 29 01:16:43 -0800 2012',\n",
       " 'date_updated': 'Thu Nov 29 01:20:11 -0800 2012',\n",
       " 'read_at': '',\n",
       " 'started_at': '',\n",
       " 'n_votes': 5,\n",
       " 'n_comments': 0}"
      ]
     },
     "metadata": {},
     "output_type": "display_data"
    }
   ],
   "source": [
    "print(' == sample record (books) ==')\n",
    "display(np.random.choice(books))\n",
    "print(' == sample record (interactions) ==')\n",
    "display(np.random.choice(interactions))\n",
    "print(' == sample record (reviews) ==')\n",
    "display(np.random.choice(reviews))"
   ]
  }
 ],
 "metadata": {
  "kernelspec": {
   "display_name": "learn-env",
   "language": "python",
   "name": "python3"
  },
  "language_info": {
   "codemirror_mode": {
    "name": "ipython",
    "version": 3
   },
   "file_extension": ".py",
   "mimetype": "text/x-python",
   "name": "python",
   "nbconvert_exporter": "python",
   "pygments_lexer": "ipython3",
   "version": "3.10.12"
  }
 },
 "nbformat": 4,
 "nbformat_minor": 2
}
