{
 "cells": [
  {
   "cell_type": "markdown",
   "metadata": {},
   "source": [
    "## Setup"
   ]
  },
  {
   "cell_type": "code",
   "execution_count": 1,
   "metadata": {},
   "outputs": [
    {
     "data": {
      "text/plain": [
       "True"
      ]
     },
     "execution_count": 1,
     "metadata": {},
     "output_type": "execute_result"
    }
   ],
   "source": [
    "from dotenv import load_dotenv\n",
    "import os\n",
    "\n",
    "load_dotenv('../.env')"
   ]
  },
  {
   "cell_type": "code",
   "execution_count": 25,
   "metadata": {},
   "outputs": [],
   "source": [
    "import pandas as pd\n",
    "import psycopg2\n",
    "from contextlib import closing\n",
    "from langchain.vectorstores.pgvector import PGVector, DistanceStrategy\n",
    "from langchain.embeddings import HuggingFaceEmbeddings\n",
    "from langchain.document_loaders import DataFrameLoader\n",
    "from langchain.text_splitter import CharacterTextSplitter"
   ]
  },
  {
   "cell_type": "code",
   "execution_count": 3,
   "metadata": {},
   "outputs": [],
   "source": [
    "EMBEDDINGS = HuggingFaceEmbeddings(model_name=\"all-MiniLM-L6-v2\")"
   ]
  },
  {
   "cell_type": "markdown",
   "metadata": {},
   "source": [
    "Connecting to pgsql database"
   ]
  },
  {
   "cell_type": "code",
   "execution_count": 32,
   "metadata": {},
   "outputs": [],
   "source": [
    "db_username = os.getenv('DB_USERNAME')\n",
    "db_password = os.getenv('DB_PASSWORD')\n",
    "db_host = os.getenv('DB_HOST')\n",
    "db_port = os.getenv('DB_PORT')\n",
    "db_name = os.getenv('DB_NAME')\n",
    "\n",
    "# Manually construct the connection string\n",
    "CONNECTION_STRING = f\"postgresql+psycopg2://{db_username}:{db_password}@{db_host}:{db_port}/{db_name}\"\n",
    "\n",
    "params = {'user':db_username,\n",
    "        'password':db_password,\n",
    "        'host':db_host,\n",
    "        'port':db_port,\n",
    "        'database':db_name}"
   ]
  },
  {
   "cell_type": "code",
   "execution_count": 5,
   "metadata": {},
   "outputs": [],
   "source": [
    "with closing(psycopg2.connect(**params)) as conn:\n",
    "    with closing(conn.cursor()) as cursor:\n",
    "        cursor.execute('''DROP TABLE IF EXISTS books_embedding_work_queue CASCADE''')\n",
    "        cursor.execute('''DROP TABLE IF EXISTS langchain_pg_collection CASCADE''')\n",
    "        cursor.execute('''DROP TABLE IF EXISTS langchain_pg_embedding CASCADE''')"
   ]
  },
  {
   "cell_type": "markdown",
   "metadata": {},
   "source": [
    "## Split descriptions into smaller chunks while preserving associated metadata"
   ]
  },
  {
   "cell_type": "code",
   "execution_count": 14,
   "metadata": {},
   "outputs": [],
   "source": [
    "df = pd.read_sql(con=CONNECTION_STRING, sql=\"SELECT book_id, description FROM books LIMIT 1000\")"
   ]
  },
  {
   "cell_type": "code",
   "execution_count": 15,
   "metadata": {},
   "outputs": [
    {
     "data": {
      "text/html": [
       "<div>\n",
       "<style scoped>\n",
       "    .dataframe tbody tr th:only-of-type {\n",
       "        vertical-align: middle;\n",
       "    }\n",
       "\n",
       "    .dataframe tbody tr th {\n",
       "        vertical-align: top;\n",
       "    }\n",
       "\n",
       "    .dataframe thead th {\n",
       "        text-align: right;\n",
       "    }\n",
       "</style>\n",
       "<table border=\"1\" class=\"dataframe\">\n",
       "  <thead>\n",
       "    <tr style=\"text-align: right;\">\n",
       "      <th></th>\n",
       "      <th>book_id</th>\n",
       "      <th>description</th>\n",
       "    </tr>\n",
       "  </thead>\n",
       "  <tbody>\n",
       "    <tr>\n",
       "      <th>995</th>\n",
       "      <td>33546595</td>\n",
       "      <td>Izdatel'stvo &lt;&gt;prodolzhaet seriiu &lt;&gt;novoi knig...</td>\n",
       "    </tr>\n",
       "    <tr>\n",
       "      <th>996</th>\n",
       "      <td>12175953</td>\n",
       "      <td>The 1956 wedding of Marilyn Monroe and Arthur ...</td>\n",
       "    </tr>\n",
       "    <tr>\n",
       "      <th>997</th>\n",
       "      <td>5054534</td>\n",
       "      <td></td>\n",
       "    </tr>\n",
       "    <tr>\n",
       "      <th>998</th>\n",
       "      <td>18635395</td>\n",
       "      <td>In this comprehensive and engaging volume, med...</td>\n",
       "    </tr>\n",
       "    <tr>\n",
       "      <th>999</th>\n",
       "      <td>13482931</td>\n",
       "      <td>Katie Piper is een mooie, jonge vrouw met een ...</td>\n",
       "    </tr>\n",
       "  </tbody>\n",
       "</table>\n",
       "</div>"
      ],
      "text/plain": [
       "      book_id                                        description\n",
       "995  33546595  Izdatel'stvo <>prodolzhaet seriiu <>novoi knig...\n",
       "996  12175953  The 1956 wedding of Marilyn Monroe and Arthur ...\n",
       "997   5054534                                                   \n",
       "998  18635395  In this comprehensive and engaging volume, med...\n",
       "999  13482931  Katie Piper is een mooie, jonge vrouw met een ..."
      ]
     },
     "execution_count": 15,
     "metadata": {},
     "output_type": "execute_result"
    }
   ],
   "source": [
    "df.tail()"
   ]
  },
  {
   "cell_type": "code",
   "execution_count": 16,
   "metadata": {},
   "outputs": [],
   "source": [
    "text_splitter = CharacterTextSplitter(\n",
    "        separator=\"\\n\\n\",\n",
    "        chunk_size=1000,\n",
    "        chunk_overlap=200,\n",
    "        length_function=len,\n",
    "        is_separator_regex=False\n",
    "    )"
   ]
  },
  {
   "cell_type": "code",
   "execution_count": 17,
   "metadata": {},
   "outputs": [],
   "source": [
    "new_list = []\n",
    "for i in range(len(df.index)):\n",
    "    txt = df['description'][i]\n",
    "    split_text = text_splitter.split_text(txt)\n",
    "    for j in range(len(split_text)):\n",
    "        new_list.append([df['book_id'][i], split_text[j]])"
   ]
  },
  {
   "cell_type": "code",
   "execution_count": 18,
   "metadata": {},
   "outputs": [
    {
     "data": {
      "text/html": [
       "<div>\n",
       "<style scoped>\n",
       "    .dataframe tbody tr th:only-of-type {\n",
       "        vertical-align: middle;\n",
       "    }\n",
       "\n",
       "    .dataframe tbody tr th {\n",
       "        vertical-align: top;\n",
       "    }\n",
       "\n",
       "    .dataframe thead th {\n",
       "        text-align: right;\n",
       "    }\n",
       "</style>\n",
       "<table border=\"1\" class=\"dataframe\">\n",
       "  <thead>\n",
       "    <tr style=\"text-align: right;\">\n",
       "      <th></th>\n",
       "      <th>book_id</th>\n",
       "      <th>description</th>\n",
       "    </tr>\n",
       "  </thead>\n",
       "  <tbody>\n",
       "    <tr>\n",
       "      <th>856</th>\n",
       "      <td>28276112</td>\n",
       "      <td>1864, Washington City. One has to be careful w...</td>\n",
       "    </tr>\n",
       "    <tr>\n",
       "      <th>857</th>\n",
       "      <td>33546595</td>\n",
       "      <td>Izdatel'stvo &lt;&gt;prodolzhaet seriiu &lt;&gt;novoi knig...</td>\n",
       "    </tr>\n",
       "    <tr>\n",
       "      <th>858</th>\n",
       "      <td>12175953</td>\n",
       "      <td>The 1956 wedding of Marilyn Monroe and Arthur ...</td>\n",
       "    </tr>\n",
       "    <tr>\n",
       "      <th>859</th>\n",
       "      <td>18635395</td>\n",
       "      <td>In this comprehensive and engaging volume, med...</td>\n",
       "    </tr>\n",
       "    <tr>\n",
       "      <th>860</th>\n",
       "      <td>13482931</td>\n",
       "      <td>Katie Piper is een mooie, jonge vrouw met een ...</td>\n",
       "    </tr>\n",
       "  </tbody>\n",
       "</table>\n",
       "</div>"
      ],
      "text/plain": [
       "      book_id                                        description\n",
       "856  28276112  1864, Washington City. One has to be careful w...\n",
       "857  33546595  Izdatel'stvo <>prodolzhaet seriiu <>novoi knig...\n",
       "858  12175953  The 1956 wedding of Marilyn Monroe and Arthur ...\n",
       "859  18635395  In this comprehensive and engaging volume, med...\n",
       "860  13482931  Katie Piper is een mooie, jonge vrouw met een ..."
      ]
     },
     "execution_count": 18,
     "metadata": {},
     "output_type": "execute_result"
    }
   ],
   "source": [
    "df_new = pd.DataFrame(new_list, columns=df.columns)\n",
    "df_new.tail()"
   ]
  },
  {
   "cell_type": "markdown",
   "metadata": {},
   "source": [
    "## Insert embeddings into PostgrsSQL and pgvector"
   ]
  },
  {
   "cell_type": "code",
   "execution_count": 19,
   "metadata": {},
   "outputs": [],
   "source": [
    "loader = DataFrameLoader(df_new, page_content_column='description')\n",
    "docs = loader.load()"
   ]
  },
  {
   "cell_type": "code",
   "execution_count": 20,
   "metadata": {},
   "outputs": [],
   "source": [
    "db = PGVector.from_documents(\n",
    "    documents=docs,\n",
    "    embedding = EMBEDDINGS,\n",
    "    collection_name = \"books_embeddings\",\n",
    "    distance_strategy = DistanceStrategy.COSINE,\n",
    "    connection_string=CONNECTION_STRING\n",
    ")"
   ]
  },
  {
   "cell_type": "markdown",
   "metadata": {},
   "source": [
    "## Query embeddedings"
   ]
  },
  {
   "cell_type": "code",
   "execution_count": 21,
   "metadata": {},
   "outputs": [],
   "source": [
    "q = \"World war 2\"\n",
    "docs = db.similarity_search(q, k=3)"
   ]
  },
  {
   "cell_type": "code",
   "execution_count": 22,
   "metadata": {},
   "outputs": [
    {
     "name": "stdout",
     "output_type": "stream",
     "text": [
      "Content:The Second World War was Hitler's personal war in many senses. He intended it, prepared for it, chose the moment for launching it, planned its course, and, on several occasions between 1939 and 1942, claimed to have won it.\n",
      "Although the aims he sought to achieve were old nationalist aspirations, the fact that the policy and strategy for their realization were imposed so completely by Hitler meant that if victory had come, it would have been very much a personal triumph: the ultimate failure was thus a personal one too.\n",
      "This book presents all of Hitler's directives, from preparations for the invasion of Poland (31 August 1939) to his last desperate order to his troops on the Eastern Front (15 April 1945), whom he urges to choke the Bolshevik assault 'in a bath of blood'. They provide a fascinating insight into Hitler's mind and how he interpreted and reacted to events as they unfolded. The book also has detailed notes which link the Fuhrer's orders and explain the consequences of his directives and how the Allies responded to them.\n",
      "Document title:3082635\n"
     ]
    }
   ],
   "source": [
    "doc = docs[0]\n",
    "\n",
    "# Access the document's content\n",
    "doc_content = doc.page_content\n",
    "# Access the document's metadata object\n",
    "doc_metadata = doc.metadata\n",
    "\n",
    "print(\"Content:\" + doc_content)\n",
    "print(\"Document title:\" + str(doc_metadata['book_id']))"
   ]
  },
  {
   "cell_type": "markdown",
   "metadata": {},
   "source": [
    "## Query embeddings - with sql"
   ]
  },
  {
   "cell_type": "markdown",
   "metadata": {},
   "source": [
    "We first need to enable the pgvector extension in our database"
   ]
  },
  {
   "cell_type": "code",
   "execution_count": 33,
   "metadata": {},
   "outputs": [],
   "source": [
    "with closing(psycopg2.connect(**params)) as conn:\n",
    "    with closing(conn.cursor()) as cursor:\n",
    "        cursor.execute('CREATE EXTENSION IF NOT EXISTS vector;')"
   ]
  },
  {
   "cell_type": "code",
   "execution_count": 34,
   "metadata": {},
   "outputs": [],
   "source": [
    "q_vector = EMBEDDINGS.embed_query(\"World war 2\")"
   ]
  },
  {
   "cell_type": "code",
   "execution_count": 39,
   "metadata": {},
   "outputs": [],
   "source": [
    "query = f\"\"\"\n",
    "    SELECT cmetadata, document\n",
    "    FROM public.langchain_pg_embedding\n",
    "    ORDER BY embedding <-> '{q_vector}'\n",
    "    LIMIT 3;\n",
    "\"\"\"\n",
    "with closing(psycopg2.connect(**params)) as conn:\n",
    "    with closing(conn.cursor()) as cursor:\n",
    "        cursor.execute(query)\n",
    "        results = cursor.fetchall()"
   ]
  },
  {
   "cell_type": "code",
   "execution_count": 41,
   "metadata": {},
   "outputs": [
    {
     "name": "stdout",
     "output_type": "stream",
     "text": [
      "Content:The Second World War was Hitler's personal war in many senses. He intended it, prepared for it, chose the moment for launching it, planned its course, and, on several occasions between 1939 and 1942, claimed to have won it.\n",
      "Although the aims he sought to achieve were old nationalist aspirations, the fact that the policy and strategy for their realization were imposed so completely by Hitler meant that if victory had come, it would have been very much a personal triumph: the ultimate failure was thus a personal one too.\n",
      "This book presents all of Hitler's directives, from preparations for the invasion of Poland (31 August 1939) to his last desperate order to his troops on the Eastern Front (15 April 1945), whom he urges to choke the Bolshevik assault 'in a bath of blood'. They provide a fascinating insight into Hitler's mind and how he interpreted and reacted to events as they unfolded. The book also has detailed notes which link the Fuhrer's orders and explain the consequences of his directives and how the Allies responded to them.\n",
      "Document title:3082635\n"
     ]
    }
   ],
   "source": [
    "doc = results[0]\n",
    "\n",
    "# Access the document's content\n",
    "doc_content = doc[1]\n",
    "# Access the document's metadata object\n",
    "doc_metadata = doc[0]\n",
    "\n",
    "print(\"Content:\" + doc_content)\n",
    "print(\"Document title:\" + str(doc_metadata['book_id']))"
   ]
  },
  {
   "cell_type": "markdown",
   "metadata": {},
   "source": [
    "Save embeddings"
   ]
  },
  {
   "cell_type": "code",
   "execution_count": null,
   "metadata": {},
   "outputs": [],
   "source": [
    "EMBEDDINGS."
   ]
  }
 ],
 "metadata": {
  "kernelspec": {
   "display_name": "nlp",
   "language": "python",
   "name": "python3"
  },
  "language_info": {
   "codemirror_mode": {
    "name": "ipython",
    "version": 3
   },
   "file_extension": ".py",
   "mimetype": "text/x-python",
   "name": "python",
   "nbconvert_exporter": "python",
   "pygments_lexer": "ipython3",
   "version": "3.10.12"
  }
 },
 "nbformat": 4,
 "nbformat_minor": 2
}
