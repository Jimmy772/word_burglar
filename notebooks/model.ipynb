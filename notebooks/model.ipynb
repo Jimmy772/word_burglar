{
 "cells": [
  {
   "cell_type": "code",
   "execution_count": 47,
   "metadata": {},
   "outputs": [],
   "source": [
    "import pandas as pd\n",
    "from txtai.embeddings import Embeddings"
   ]
  },
  {
   "cell_type": "code",
   "execution_count": 48,
   "metadata": {},
   "outputs": [],
   "source": [
    "df = pd.read_json('../data/interim/books.json')"
   ]
  },
  {
   "cell_type": "code",
   "execution_count": 49,
   "metadata": {},
   "outputs": [],
   "source": [
    "embeddings = Embeddings({\n",
    "    \"path\": 'sentence-transformers/all-MiniLM-L6-v2'\n",
    "})"
   ]
  },
  {
   "cell_type": "markdown",
   "metadata": {},
   "source": [
    "## Prepare data"
   ]
  },
  {
   "cell_type": "code",
   "execution_count": 50,
   "metadata": {},
   "outputs": [
    {
     "data": {
      "text/plain": [
       "(18882152,\n",
       " \"Description: ;\\nPUBLISHER: ;\\nPUBLICATION MONTH: Unknown;\\nPUBLICATION YEAR: ;\\nPUBLICATION DAY: ;\\nNUMBER OF PAGES: ;\\nCOUNTRY CODE: US;\\nREVIEW COUNT: 9;\\nSHELVES: to-read to-read to-read to-read to-read to-read to-read to-read to-read to-read to-read to-read to-read to-read to-read to-read to-read to-read to-read to-read to-read to-read to-read to-read to-read to-read to-read to-read to-read to-read to-read to-read to-read to-read to-read to-read to-read to-read to-read to-read to-read to-read to-read to-read to-read to-read to-read to-read to-read to-read  currently-reading currently-reading currently-reading currently-reading currently-reading currently-reading currently-reading currently-reading currently-reading currently-reading currently-reading currently-reading currently-reading currently-reading  historical-fiction historical-fiction historical-fiction  kindle kindle  on-my-kindle  2017-challenge  hardly-known-books  2017-on-goodreads  war  religious-fiction  non-fiction-spiritual  n  2nd-world-war  reserve-me  e-book ;\\nIS EBOOK: true;\\nAVERAGE RATING: 3.91;\\nSIMILAR BOOKS: None;\\nLANGUAGE: eng;\\nREVIEWS: {Review: A Nazi on Trial In God's Court is a very short novella by Roberta Kagan. It is the trial of Heinrich Himmler in Heaven. It is an interesting concept with the jury from Babi Yar and the presence of Jesus. It was definitely not something that I expected when I decided to read this. The twist at the end is something else.; Votes: 0; Comments: 0; Rating: 5;}.\\nTITLE: A Nazi On Trial In God's Court.\\nTITLE WITHOUT SERIES: A Nazi On Trial In God's Court\",\n",
       " None)"
      ]
     },
     "execution_count": 50,
     "metadata": {},
     "output_type": "execute_result"
    }
   ],
   "source": [
    "txtai_data = []\n",
    "for i in range(len(df)):\n",
    "    book = df.iloc[i]\n",
    "    txtai_data.append((book['book_id'], book['text'], None))\n",
    "txtai_data[0]"
   ]
  },
  {
   "cell_type": "markdown",
   "metadata": {},
   "source": [
    "Creating embeddings"
   ]
  },
  {
   "cell_type": "code",
   "execution_count": 51,
   "metadata": {},
   "outputs": [],
   "source": [
    "embeddings.index(txtai_data)"
   ]
  },
  {
   "cell_type": "markdown",
   "metadata": {},
   "source": [
    "## Testing the Model"
   ]
  },
  {
   "cell_type": "code",
   "execution_count": 55,
   "metadata": {},
   "outputs": [],
   "source": [
    "res = embeddings.search(\"About Palestine\", 4)"
   ]
  },
  {
   "cell_type": "code",
   "execution_count": 56,
   "metadata": {},
   "outputs": [
    {
     "name": "stdout",
     "output_type": "stream",
     "text": [
      "(25451117, 0.5096164345741272)\n",
      "(2551426, 0.49574047327041626)\n",
      "(891855, 0.48514798283576965)\n",
      "(7937379, 0.4555478096008301)\n"
     ]
    }
   ],
   "source": [
    "for r in res:\n",
    "    print(r)"
   ]
  },
  {
   "cell_type": "code",
   "execution_count": 57,
   "metadata": {},
   "outputs": [
    {
     "name": "stdout",
     "output_type": "stream",
     "text": [
      "Title: The World of Biblical Israel\n",
      "\n",
      "Text: Description: 24 Lectures\n",
      "1Biblical Israel-The Story of a People\n",
      "2By the Rivers of Babylon-Exile\n",
      "3Ancestor Narratives in Genesis\n",
      "4Moses-The Torah's Central Hero\n",
      "5Becoming the Nation of Israel\n",
      "6Kinship and Economics in Highland Villages\n",
      "7Three Weddings and a Funeral\n",
      "8Political Power Bases in Early Israel\n",
      "9Kingdoms and King Making\n",
      "10Politics and Economy of a Centralized Cult\n",
      "11Worshipping Locally\n",
      "12Lives of the Rich, Lives of the Poor\n",
      "13Assyrian Incursion into Israel and Judah\n",
      "14Life under Siege\n",
      "15Religious Debates and Preserved Text\n",
      "16Ezekiel-Exilic Informant\n",
      "17Life in Exile, Life in Judah\n",
      "18Literacy and Education\n",
      "19Religious Developments of the Exile\n",
      "20The New Israel-Resettling the Land\n",
      "21Food and the Family Meal-Boundaries\n",
      "22National Identity-Intermarriage\n",
      "23National Identity-Twins and Enemies\n",
      "24Loss and Restoration-Two Biblical Stories;\n",
      "PUBLISHER: ;\n",
      "PUBLICATION MONTH: Unknown;\n",
      "PUBLICATION YEAR: ;\n",
      "PUBLICATION DAY: ;\n",
      "NUMBER OF PAGES: 285;\n",
      "COUNTRY CODE: US;\n",
      "REVIEW COUNT: 2;\n",
      "SHELVES: to-read to-read to-read to-read to-read to-read to-read to-read  history history history history history  currently-reading currently-reading currently-reading currently-reading currently-reading  religion religion religion  audio-books audio-books  the-great-courses the-great-courses  lecture lecture  great-courses great-courses  audiobook audiobook  biblical-studies  spirituality  audio  2016-challenge  judiasm  non-fiction  mythology  middle-east  christianity  archaeology  tgc-plus  tgc  my-custom-shelf  hebrew-bible-studies  _courses-ttc  ancient-mediterranean  academic-religious-studies  _read_religion-wisdom-tradition  status-owned  genre-nonfiction-history  genre-nonfiction  genre-christianity-history  genre-christianity  collection-my-audio-books  my-audio-books ;\n",
      "IS EBOOK: false;\n",
      "AVERAGE RATING: 3.79;\n",
      "SIMILAR BOOKS: None;\n",
      "LANGUAGE: ;\n",
      "REVIEWS: {Review: Fascinating exploration of the story of the Old Testament mapped through the lens of history and archaeology. While it is not from what you might call an orthodox Christian perspective, it does offer insights into the history and culture of Israel and thus will enrich your reading and understanding of history (in my opinion at least).; Votes: 1; Comments: 0; Rating: 4;}.\n",
      "TITLE: The World of Biblical Israel.\n",
      "TITLE WITHOUT SERIES: The World of Biblical Israel\n",
      "----------------------------------------------------------------------------------------------------\n",
      "Title: Shackled Warrior: Israel and the Global Jihad\n",
      "\n",
      "Text: Description: Islamic supremacism, European cultural disaggregation, American vacillation, and Israeli timidity and confusion. These are the main social contexts that inform political and strategic developments of global and national affairs in our times. In her biweekly commentaries, Caroline B. Glick, the formidable Jerusalem Post columnist, highlights these underlying trends while analyzing events as they unfold both globally and in Israel. This extraordinary collection of her probing and eloquent work is a must read for all who care about winning the war against the multifarious forces of global jihad.;\n",
      "PUBLISHER: Gefen Books;\n",
      "PUBLICATION MONTH: April;\n",
      "PUBLICATION YEAR: 2008;\n",
      "PUBLICATION DAY: 20;\n",
      "NUMBER OF PAGES: 448;\n",
      "COUNTRY CODE: US;\n",
      "REVIEW COUNT: 5;\n",
      "SHELVES: non non non non non non non non non non non non  hist-bio hist-bio hist-bio hist-bio hist-bio hist-bio hist-bio hist-bio  to-read to-read to-read to-read to-read to-read to-read  israel israel israel israel israel  zionism zionism  history history  recommendations recommendations  reviewed reviewed  default default  neocon-lies  misc  uh-dunno  judeo-christian-islamic  war-on-terror  middle-east  israeli-palestinian-conflict  social-commentary  leftism  titles-published-by-gefen  judaism-torah-israel  culture-politics  israel-and-jewish-issues  islamism  own-it  favorites  israel-jews  essays ;\n",
      "IS EBOOK: false;\n",
      "AVERAGE RATING: 4.29;\n",
      "SIMILAR BOOKS: None;\n",
      "LANGUAGE: ;\n",
      "REVIEWS: {Review: Neocon Nonsense \n",
      " (Full disclosure: I received a free copy of this book for review through Library Thing's Early Reviewer program.) \n",
      " At first glance, journalist Caroline Glick seems well-suited to author a book on the so-called \"global war on terror\", particularly Israel's piece in the puzzle. Born in the United States and educated at Columbia and Harvard Universities, she immigrated to Israel in 1991, where she joined the Israel Defense Force and served as \"a core member of Israel's negotiating team with the Palestinians during the Oslo peace process.\" Subsequently, Ms. Glick also served as assistant foreign policy advisor to PM Binyamin Netanyahu. Currently she is a Senior Fellow for Middle Eastern Affairs at the Center for Security Policy in Washington, DC., as well as the deputy managing editor of THE JERUSALEM POST (to which she contributes two weekly syndicated columns), and the chief diplomatic correspondent for Israel's MAKOR RISHON newspaper (which publishes a weekly column of Ms. Glick's in Hebrew).* THE SHACKLED WARRIOR: ISRAEL AND THE GLOBAL JIHAD is a collection of Ms. Glick's columns, culled from the pages of THE JERUSALEM POST from 2002 to the present. \n",
      " Unfortunately, Ms. Glick's considerable knowledge and experience is dwarfed by her black-or-white, \"you're either with us or against us\" world perspective. Like most neoconservatives, Ms. Glick has yet to advance beyond Piaget's concrete operational stage of cognitive development. To wit: she seems incapable of anything but dichotomous thinking. \n",
      " For example, take the following passage (from the column \"Politically Correct Perfidy\", dated September 11, 2006). \n",
      " The setup: Harvard University students are protesting a scheduled visit from former Iranian president Muhammad Khatami, who was invited to speak at the school by Harvard's Kennedy School of Government. The same week, VP Dick Cheney had to scurry through the back door of the Harvard Club in Boston in order to avoid a few hundred angry protesters. \n",
      " Glick blasts Harvard for extending an invitation to Khatami; doubly so, their failure to schedule a two-person debate rather than an uninterrupted monologue.** She then wonders, \n",
      " \"[H]ad a debate between him [Khatami] and Cheney been organized, it would have been interesting to see which side the protestors outside of the Harvard Club in Boston would have supported.\" \n",
      " Because, ya know, you just can't detest two fascist, murderous regimes simultaneously. \n",
      " Seriously, though, as a self-described liberal/progressive, I think equating Bush/Cheney with the likes of Hitler is misguided hyperbole at best. Even so, I do consider BushCo war criminals, and both the VP and the President ought to be impeached. That doesn't, however, mean that I must automatically support Khatami (along with the likes of Saddam Hussein, Mahmoud Ahmadinejad, radical Islamists, suicide bombers, and other assorted bigots who would kill and oppress the Other in order to gain power and/or advance their particular strain of superstition). Again, this \"you're either with us or against us\" dubya speak is the kind of egotistical blather that lost us the hearts and minds of most of the world - allies and \"damsels in distress\" alike. \n",
      " In addition to this black-and-white \"reasoning\", Ms. Glick dons the blinders when it comes to seeing any possible negative consequences on the \"War on Terror\". \n",
      " In the Preface, she writes, \n",
      " \"The forces of jihad - whether comprised of states actors or non-state actors - are the enemy in this war. Consequently, anything that advances jihad's aim of Islamic domination is antithetical to the interests of the free world. Anything that harms that cause advances the interests of human liberty and freedom.\" \n",
      " In two tidy sentences, Ms. Glick has justified torture, indefinite detention, warantless wiretapping, and countless other violations of civil liberties. \"Anything that harms jihad advances the interests of human liberty and freedom.\" The terrorists hate us because we're free - so let's not exercise our freedoms, or the terrorists win! Jonah Goldberg? Is that you? \n",
      " Not to mention, half the Iraqi population is female. Female humans. Female humans who have seen their rights steadily eroded since the overthrow of Saddam Hussein. But, again true to neocon think, I guess they don't count since they have lady bits and all. \n",
      " Aside from the actual content of the book, I was also dissatisfied with the format. The bulk of the book is columns that have previously appeared in THE JERUSALEM POST. They're arranged by topic into ten chapters, and then chronologically within each chapter. The only new material is the book's preface, meant to introduce the compilation. With no chapter intros to string the individual columns together, the book simply doesn't flow well. Additionally, the columns are presented without context; unless the reader is intimately familiar with everyday happenings in the Middle East, it's sometimes challenging to read the topic as part of a larger narrative. Some background information, where appropriate, would have been much appreciated. \n",
      " All in all, I can sum up my review with one pithy statement: Why buy the book when you can (not) read the neocon nonsense for free? *** \n",
      " * Information gathered from Amazon's THE SHACKLED WARRIOR listing, as well as Wikipedia's entry on \"Caroline Glick\". \n",
      " ** When the current Iranian president Mahmoud Ahmadinejad was similarly invited to speak at Columbia University on September 24, 2007, this format worked out wonderfully: given the chance to spout off, Ahmadinejad's rants no doubt taught the students in attendance much about the hard-line leader's warped worldview. \"No homosexuals in Iran\"? Indeed. \n",
      " *** Google the individual columns to read them online - or take a shortcut right to TownHall, the epicenter of right wing neocon nonsense. \n",
      " http://www.easyvegan.info/2008/03/24/...; Votes: 0; Comments: 0; Rating: 1;}.\n",
      "TITLE: Shackled Warrior: Israel and the Global Jihad.\n",
      "TITLE WITHOUT SERIES: Shackled Warrior: Israel and the Global Jihad\n",
      "----------------------------------------------------------------------------------------------------\n",
      "Title: Islam and the Arab World\n",
      "\n",
      "Text: Description: ;\n",
      "PUBLISHER: Alfred A. Knopf;\n",
      "PUBLICATION MONTH: September;\n",
      "PUBLICATION YEAR: 1976;\n",
      "PUBLICATION DAY: 1;\n",
      "NUMBER OF PAGES: ;\n",
      "COUNTRY CODE: US;\n",
      "REVIEW COUNT: 1;\n",
      "SHELVES: to-read to-read to-read to-read to-read to-read to-read to-read to-read to-read to-read to-read to-read to-read to-read to-read to-read to-read to-read to-read to-read to-read  history history  religious-ed-to-read  religion  bernard-lewis  art  islamic-history  law-school ;\n",
      "IS EBOOK: false;\n",
      "AVERAGE RATING: 3.44;\n",
      "SIMILAR BOOKS: None;\n",
      "LANGUAGE: ;\n",
      "REVIEWS: {Review: \"Islam and the Arab World: Faith, People, Culture by Bernard Lewis (1976)\"; Votes: 0; Comments: 0; Rating: 0;}.\n",
      "TITLE: Islam and the Arab World.\n",
      "TITLE WITHOUT SERIES: Islam and the Arab World\n",
      "----------------------------------------------------------------------------------------------------\n",
      "Title: Son of Hamas\n",
      "\n",
      "Text: Description: Since he was a small boy, Mosab Hassan Yousef has had an inside view of the deadly terrorist group Hamas. The oldest son of Sheikh Hassan Yousef, a founding member of Hamas and its most popular leader, young Mosab assisted his father for years in his political activities while being groomed to assume his legacy, politics, status... and power. But everything changed when Mosab turned away from terror and violence, and embraced instead the teachings of another famous Middle East leader, Jesus. In Son of Hamas, Mosab Yousef--now called \"Joseph\"--reveals new information about the world's most dangerous terrorist organization and unveils the truth about his own role, his agonizing separation from family and homeland, the dangerous decision to make his newfound faith public, and his belief that the Christian mandate to \"love your enemies\" is the only way to peace in the Middle East.;\n",
      "PUBLISHER: SaltRiver;\n",
      "PUBLICATION MONTH: Unknown;\n",
      "PUBLICATION YEAR: 2010;\n",
      "PUBLICATION DAY: ;\n",
      "NUMBER OF PAGES: 265;\n",
      "COUNTRY CODE: US;\n",
      "REVIEW COUNT: 6;\n",
      "SHELVES: to-read to-read to-read to-read to-read to-read to-read to-read to-read to-read to-read to-read to-read to-read to-read to-read to-read to-read to-read to-read to-read to-read to-read to-read to-read to-read to-read to-read to-read to-read to-read to-read to-read to-read to-read to-read to-read to-read to-read to-read to-read to-read to-read to-read to-read to-read to-read to-read to-read to-read to-read to-read to-read to-read to-read to-read to-read to-read to-read to-read to-read to-read to-read to-read to-read to-read to-read to-read to-read to-read to-read to-read to-read to-read to-read to-read to-read to-read to-read to-read to-read to-read to-read to-read to-read to-read to-read to-read to-read to-read to-read to-read to-read to-read to-read to-read to-read to-read to-read to-read to-read to-read to-read to-read to-read to-read to-read to-read to-read to-read to-read to-read to-read to-read to-read to-read to-read to-read to-read to-read to-read to-read to-read to-read to-read to-read to-read to-read to-read to-read to-read to-read to-read to-read to-read to-read to-read to-read to-read to-read to-read to-read to-read to-read to-read to-read to-read to-read to-read to-read to-read to-read to-read to-read to-read to-read to-read to-read to-read to-read to-read to-read to-read to-read to-read to-read to-read to-read to-read to-read to-read to-read to-read to-read to-read to-read to-read to-read to-read to-read to-read to-read to-read to-read to-read to-read to-read to-read to-read to-read to-read to-read to-read to-read to-read to-read to-read to-read to-read to-read to-read to-read to-read to-read to-read to-read to-read to-read to-read to-read to-read to-read to-read to-read to-read to-read to-read to-read to-read to-read to-read to-read to-read to-read to-read to-read to-read to-read to-read to-read to-read to-read to-read to-read to-read to-read to-read to-read to-read to-read to-read to-read to-read to-read to-read to-read to-read to-read to-read to-read to-read to-read to-read to-read to-read to-read to-read to-read to-read to-read to-read to-read to-read to-read to-read to-read to-read to-read to-read to-read to-read to-read to-read to-read to-read to-read to-read to-read to-read to-read to-read to-read to-read to-read to-read to-read to-read to-read to-read to-read to-read to-read to-read to-read to-read to-read to-read to-read to-read to-read to-read to-read to-read to-read to-read to-read to-read to-read to-read to-read to-read to-read to-read to-read to-read to-read to-read to-read to-read to-read to-read to-read to-read to-read to-read to-read to-read to-read to-read to-read to-read to-read to-read to-read to-read to-read to-read to-read to-read to-read to-read to-read to-read to-read to-read to-read to-read to-read to-read to-read to-read to-read to-read to-read to-read to-read to-read to-read to-read to-read to-read to-read to-read to-read to-read to-read to-read to-read to-read to-read to-read to-read to-read to-read to-read to-read to-read to-read to-read to-read to-read to-read to-read to-read to-read to-read to-read to-read to-read to-read to-read to-read to-read to-read to-read to-read to-read to-read to-read to-read to-read to-read to-read to-read to-read to-read to-read to-read to-read to-read to-read to-read to-read to-read to-read to-read to-read to-read to-read to-read to-read to-read to-read to-read to-read to-read to-read to-read to-read to-read to-read to-read to-read to-read to-read to-read to-read to-read to-read to-read to-read to-read to-read to-read to-read to-read to-read to-read to-read to-read to-read to-read to-read to-read to-read to-read to-read to-read to-read to-read to-read to-read to-read to-read to-read to-read to-read to-read to-read to-read to-read to-read to-read to-read to-read to-read to-read to-read to-read to-read to-read to-read to-read to-read to-read to-read to-read to-read to-read to-read to-read to-read to-read to-read to-read to-read to-read to-read to-read to-read to-read to-read to-read to-read to-read to-read to-read to-read to-read to-read to-read to-read to-read to-read to-read to-read to-read to-read to-read to-read to-read to-read to-read to-read to-read to-read to-read to-read to-read to-read to-read to-read to-read to-read to-read to-read to-read to-read to-read to-read to-read to-read to-read to-read to-read to-read to-read to-read to-read to-read to-read to-read to-read to-read to-read to-read to-read to-read to-read to-read to-read to-read to-read to-read to-read to-read to-read to-read to-read to-read to-read to-read to-read to-read to-read to-read to-read to-read to-read to-read to-read to-read to-read to-read to-read to-read to-read to-read to-read to-read to-read to-read to-read to-read to-read to-read to-read to-read to-read to-read to-read to-read to-read to-read to-read to-read to-read to-read to-read to-read to-read to-read to-read to-read to-read to-read to-read to-read to-read to-read to-read to-read to-read to-read to-read to-read to-read to-read to-read to-read to-read to-read to-read to-read to-read to-read to-read to-read to-read to-read to-read to-read to-read to-read to-read to-read to-read to-read to-read to-read to-read to-read to-read to-read to-read to-read to-read to-read to-read to-read to-read to-read to-read to-read to-read to-read to-read to-read to-read to-read to-read to-read to-read to-read to-read to-read to-read to-read to-read to-read to-read to-read to-read to-read to-read to-read to-read to-read to-read to-read to-read to-read to-read to-read to-read to-read to-read to-read to-read to-read to-read to-read to-read to-read to-read to-read to-read to-read to-read to-read to-read to-read to-read to-read to-read to-read to-read to-read to-read to-read to-read to-read to-read to-read to-read to-read to-read to-read to-read to-read to-read to-read to-read to-read to-read to-read to-read to-read to-read to-read to-read to-read to-read to-read to-read to-read to-read to-read to-read to-read to-read to-read to-read to-read to-read to-read to-read to-read to-read to-read to-read to-read to-read to-read to-read to-read to-read to-read to-read to-read to-read to-read to-read to-read to-read to-read to-read to-read to-read to-read to-read to-read to-read to-read to-read to-read to-read to-read to-read to-read to-read to-read to-read to-read to-read to-read to-read to-read to-read to-read to-read to-read to-read to-read to-read to-read to-read to-read to-read to-read to-read to-read to-read to-read to-read to-read to-read to-read to-read to-read to-read to-read to-read to-read to-read to-read to-read to-read to-read to-read to-read to-read to-read to-read to-read to-read to-read to-read to-read to-read to-read to-read to-read to-read to-read to-read to-read to-read to-read to-read to-read to-read to-read to-read to-read to-read to-read to-read to-read to-read to-read to-read to-read to-read to-read to-read to-read to-read to-read to-read to-read to-read to-read to-read to-read to-read to-read to-read to-read to-read to-read to-read to-read to-read to-read to-read to-read to-read to-read to-read to-read to-read to-read to-read to-read to-read to-read to-read to-read to-read to-read to-read to-read to-read to-read to-read to-read to-read to-read to-read to-read to-read to-read to-read to-read to-read to-read to-read to-read to-read to-read to-read to-read to-read to-read to-read to-read to-read to-read to-read to-read to-read to-read to-read to-read to-read to-read to-read to-read to-read to-read to-read to-read to-read to-read to-read to-read to-read to-read to-read to-read to-read to-read to-read to-read to-read to-read to-read to-read to-read to-read to-read to-read to-read to-read to-read to-read to-read to-read to-read to-read to-read to-read to-read to-read to-read to-read to-read to-read to-read to-read to-read to-read to-read to-read to-read to-read to-read to-read to-read to-read to-read to-read to-read to-read to-read to-read to-read to-read to-read to-read to-read to-read to-read to-read to-read to-read to-read to-read to-read to-read to-read to-read to-read to-read to-read to-read to-read to-read to-read to-read to-read to-read to-read to-read to-read to-read to-read to-read to-read to-read to-read to-read to-read to-read to-read to-read to-read to-read to-read to-read to-read to-read to-read to-read to-read to-read to-read to-read to-read to-read to-read to-read to-read to-read to-read to-read to-read to-read to-read to-read to-read to-read to-read to-read to-read to-read to-read to-read to-read to-read to-read to-read to-read to-read to-read to-read to-read to-read to-read to-read to-read to-read to-read to-read to-read to-read to-read to-read to-read to-read to-read to-read to-read to-read to-read to-read to-read to-read to-read to-read to-read to-read to-read to-read to-read to-read to-read to-read to-read to-read to-read to-read to-read to-read to-read to-read to-read to-read to-read to-read to-read to-read to-read to-read to-read to-read to-read to-read to-read to-read to-read to-read to-read to-read to-read to-read to-read to-read to-read to-read to-read to-read to-read to-read to-read to-read to-read to-read to-read to-read to-read to-read to-read to-read to-read to-read to-read to-read to-read to-read to-read to-read to-read to-read to-read to-read to-read to-read to-read to-read to-read to-read to-read to-read to-read to-read to-read to-read to-read to-read to-read to-read to-read to-read to-read to-read to-read to-read to-read to-read to-read to-read to-read to-read to-read to-read to-read to-read to-read to-read to-read  currently-reading currently-reading currently-reading currently-reading currently-reading currently-reading currently-reading currently-reading currently-reading currently-reading currently-reading currently-reading currently-reading currently-reading currently-reading currently-reading currently-reading currently-reading currently-reading currently-reading currently-reading currently-reading currently-reading currently-reading currently-reading currently-reading currently-reading currently-reading currently-reading currently-reading currently-reading currently-reading currently-reading currently-reading currently-reading currently-reading currently-reading currently-reading currently-reading currently-reading currently-reading currently-reading currently-reading currently-reading currently-reading currently-reading currently-reading currently-reading currently-reading currently-reading currently-reading currently-reading currently-reading currently-reading currently-reading currently-reading currently-reading currently-reading currently-reading currently-reading currently-reading currently-reading currently-reading currently-reading currently-reading currently-reading currently-reading currently-reading currently-reading currently-reading currently-reading currently-reading currently-reading currently-reading currently-reading currently-reading currently-reading currently-reading currently-reading currently-reading currently-reading currently-reading currently-reading currently-reading currently-reading currently-reading currently-reading currently-reading currently-reading currently-reading currently-reading currently-reading currently-reading currently-reading currently-reading currently-reading currently-reading currently-reading currently-reading currently-reading currently-reading currently-reading currently-reading currently-reading currently-reading currently-reading currently-reading currently-reading currently-reading currently-reading currently-reading currently-reading currently-reading currently-reading currently-reading currently-reading currently-reading currently-reading currently-reading currently-reading currently-reading currently-reading currently-reading currently-reading currently-reading currently-reading currently-reading currently-reading currently-reading currently-reading currently-reading currently-reading currently-reading currently-reading currently-reading currently-reading currently-reading currently-reading currently-reading currently-reading currently-reading currently-reading currently-reading currently-reading currently-reading currently-reading currently-reading currently-reading currently-reading currently-reading currently-reading currently-reading currently-reading currently-reading currently-reading currently-reading currently-reading currently-reading currently-reading currently-reading currently-reading currently-reading currently-reading currently-reading currently-reading currently-reading currently-reading currently-reading currently-reading currently-reading currently-reading currently-reading currently-reading currently-reading currently-reading currently-reading currently-reading currently-reading currently-reading currently-reading currently-reading currently-reading currently-reading currently-reading currently-reading currently-reading currently-reading currently-reading currently-reading currently-reading currently-reading currently-reading currently-reading currently-reading currently-reading currently-reading currently-reading currently-reading currently-reading currently-reading currently-reading currently-reading currently-reading currently-reading currently-reading currently-reading currently-reading currently-reading currently-reading currently-reading currently-reading currently-reading currently-reading currently-reading currently-reading currently-reading currently-reading currently-reading currently-reading currently-reading currently-reading currently-reading currently-reading currently-reading currently-reading currently-reading currently-reading  non-fiction non-fiction non-fiction non-fiction non-fiction non-fiction non-fiction non-fiction non-fiction non-fiction non-fiction non-fiction non-fiction non-fiction non-fiction non-fiction non-fiction non-fiction non-fiction non-fiction non-fiction non-fiction non-fiction non-fiction non-fiction non-fiction non-fiction non-fiction non-fiction non-fiction non-fiction non-fiction non-fiction non-fiction non-fiction non-fiction non-fiction non-fiction non-fiction non-fiction non-fiction non-fiction non-fiction non-fiction non-fiction non-fiction non-fiction non-fiction non-fiction non-fiction non-fiction non-fiction non-fiction non-fiction non-fiction non-fiction non-fiction non-fiction non-fiction non-fiction non-fiction non-fiction non-fiction non-fiction non-fiction non-fiction non-fiction non-fiction non-fiction non-fiction non-fiction non-fiction non-fiction non-fiction non-fiction non-fiction non-fiction non-fiction non-fiction non-fiction non-fiction non-fiction non-fiction non-fiction non-fiction non-fiction non-fiction non-fiction non-fiction non-fiction non-fiction non-fiction non-fiction non-fiction non-fiction non-fiction non-fiction non-fiction non-fiction non-fiction non-fiction non-fiction non-fiction non-fiction non-fiction non-fiction non-fiction non-fiction non-fiction non-fiction non-fiction non-fiction non-fiction non-fiction non-fiction non-fiction non-fiction non-fiction non-fiction non-fiction non-fiction non-fiction non-fiction non-fiction non-fiction non-fiction non-fiction non-fiction non-fiction non-fiction non-fiction non-fiction non-fiction non-fiction non-fiction non-fiction non-fiction non-fiction non-fiction non-fiction non-fiction non-fiction non-fiction non-fiction non-fiction non-fiction non-fiction non-fiction non-fiction non-fiction non-fiction non-fiction non-fiction non-fiction non-fiction non-fiction non-fiction non-fiction non-fiction non-fiction non-fiction non-fiction non-fiction non-fiction non-fiction non-fiction  biography biography biography biography biography biography biography biography biography biography biography biography biography biography biography biography biography biography biography biography biography biography biography biography biography biography biography biography biography biography biography biography biography biography biography biography biography biography biography biography biography biography biography biography biography biography biography biography biography biography biography biography biography biography biography biography biography biography biography biography biography biography biography biography biography biography biography biography biography biography biography biography biography biography biography biography biography biography biography biography biography biography biography biography biography biography biography biography biography biography biography biography biography biography biography biography biography biography biography biography biography biography biography biography biography biography biography biography biography biography biography biography biography biography biography biography biography biography biography biography biography biography biography biography biography biography biography biography biography biography biography biography biography biography biography biography biography biography biography biography biography biography biography biography biography  history history history history history history history history history history history history history history history history history history history history history history history history history history history history history history history history history history history history history history history history history history history history history history history history history history history history history history history history history history history history history history history history history history history history history history history history history history history history  nonfiction nonfiction nonfiction nonfiction nonfiction nonfiction nonfiction nonfiction nonfiction nonfiction nonfiction nonfiction nonfiction nonfiction nonfiction nonfiction nonfiction nonfiction nonfiction nonfiction nonfiction nonfiction nonfiction nonfiction nonfiction nonfiction nonfiction nonfiction nonfiction nonfiction nonfiction nonfiction nonfiction nonfiction nonfiction nonfiction nonfiction nonfiction nonfiction nonfiction nonfiction nonfiction nonfiction nonfiction nonfiction nonfiction nonfiction nonfiction nonfiction nonfiction nonfiction nonfiction nonfiction nonfiction nonfiction nonfiction nonfiction nonfiction nonfiction nonfiction nonfiction nonfiction nonfiction nonfiction nonfiction nonfiction nonfiction nonfiction  middle-east middle-east middle-east middle-east middle-east middle-east middle-east middle-east middle-east middle-east middle-east middle-east middle-east middle-east middle-east middle-east middle-east middle-east middle-east middle-east middle-east middle-east middle-east middle-east middle-east middle-east middle-east middle-east middle-east middle-east middle-east middle-east middle-east middle-east middle-east middle-east middle-east middle-east middle-east middle-east middle-east middle-east middle-east middle-east middle-east middle-east middle-east middle-east middle-east middle-east middle-east middle-east middle-east middle-east middle-east middle-east middle-east middle-east middle-east middle-east middle-east middle-east middle-east  politics politics politics politics politics politics politics politics politics politics politics politics politics politics politics politics politics politics politics politics politics politics politics politics politics politics politics politics politics politics politics politics politics politics politics politics politics politics politics politics politics politics politics politics politics politics politics politics politics politics politics politics politics  favorites favorites favorites favorites favorites favorites favorites favorites favorites favorites favorites favorites favorites favorites favorites favorites favorites favorites favorites favorites favorites favorites favorites favorites favorites favorites favorites favorites favorites favorites favorites favorites favorites favorites favorites favorites favorites favorites favorites favorites favorites favorites favorites favorites favorites favorites favorites favorites favorites favorites favorites  christian christian christian christian christian christian christian christian christian christian christian christian christian christian christian christian christian christian christian christian christian christian christian christian christian christian christian christian christian christian christian christian christian christian christian christian christian  memoir memoir memoir memoir memoir memoir memoir memoir memoir memoir memoir memoir memoir memoir memoir memoir memoir memoir memoir memoir memoir memoir memoir memoir memoir memoir memoir memoir memoir memoir memoir memoir memoir memoir memoir memoir memoir  biographies biographies biographies biographies biographies biographies biographies biographies biographies biographies biographies biographies biographies biographies biographies biographies biographies biographies biographies biographies biographies biographies biographies biographies biographies biographies biographies biographies biographies biographies biographies biographies biographies biographies  islam islam islam islam islam islam islam islam islam islam islam islam islam islam islam islam islam islam islam islam islam islam islam islam islam islam islam islam islam islam islam islam islam  religion religion religion religion religion religion religion religion religion religion religion religion religion religion religion religion religion religion religion religion religion religion religion religion religion religion religion religion  autobiography autobiography autobiography autobiography autobiography autobiography autobiography autobiography autobiography autobiography autobiography autobiography autobiography autobiography autobiography autobiography autobiography autobiography autobiography autobiography autobiography autobiography autobiography autobiography autobiography autobiography autobiography  israel israel israel israel israel israel israel israel israel israel israel israel israel israel israel israel israel israel israel israel israel israel israel israel israel  book-club book-club book-club book-club book-club book-club book-club book-club book-club book-club book-club book-club book-club book-club book-club book-club book-club book-club book-club book-club  memoirs memoirs memoirs memoirs memoirs memoirs memoirs memoirs memoirs memoirs memoirs memoirs memoirs memoirs memoirs memoirs memoirs  biography-memoir biography-memoir biography-memoir biography-memoir biography-memoir biography-memoir biography-memoir biography-memoir biography-memoir biography-memoir biography-memoir biography-memoir biography-memoir  kindle kindle kindle kindle kindle kindle kindle kindle kindle kindle kindle kindle  owned owned owned owned owned owned owned owned owned owned owned  christianity christianity christianity christianity christianity christianity christianity christianity christianity christianity christianity  ebooks ebooks ebooks ebooks ebooks ebooks ebooks ebooks ebooks ebooks  political political political political political political political political political political  terrorism terrorism terrorism terrorism terrorism terrorism terrorism terrorism terrorism terrorism  ebook ebook ebook ebook ebook ebook ebook ebook ebook  books-i-own books-i-own books-i-own books-i-own books-i-own books-i-own books-i-own books-i-own  audiobooks audiobooks audiobooks audiobooks audiobooks audiobooks audiobooks audiobooks  memoir-biography memoir-biography memoir-biography memoir-biography memoir-biography memoir-biography memoir-biography memoir-biography  default default default default default default default  palestine palestine palestine palestine palestine palestine palestine  war war war war war war war  to-buy to-buy to-buy to-buy to-buy to-buy to-buy  hamas hamas hamas hamas hamas hamas  wish-list wish-list wish-list wish-list wish-list wish-list  library library library library library  pdf pdf pdf pdf pdf  audiobook audiobook audiobook audiobook audiobook  religious religious religious religious religious  christian-nonfiction christian-nonfiction christian-nonfiction christian-nonfiction christian-nonfiction  current-events current-events current-events current-events current-events  book-club-books book-club-books book-club-books book-club-books  autobiographies autobiographies autobiographies autobiographies  contemporary contemporary contemporary contemporary  military military military military  my-books my-books my-books my-books  biographical biographical biographical biographical  history-biography history-biography history-biography history-biography  on-kindle on-kindle on-kindle on-kindle  fiction fiction fiction fiction  kindle-books kindle-books kindle-books kindle-books  spiritual spiritual spiritual spiritual  adult adult adult adult  theology theology theology theology  read-2016 read-2016 read-2016  palestinian palestinian palestinian  espionage espionage espionage  owned-books owned-books owned-books  e-books e-books e-books  biography-autobiography biography-autobiography biography-autobiography  hebrew hebrew hebrew  israel-palestine israel-palestine israel-palestine  recommended recommended recommended  auto-biography auto-biography auto-biography  adventure adventure adventure  audio-book audio-book audio-book  christian-non-fiction christian-non-fiction christian-non-fiction  bio-memoir bio-memoir bio-memoir  mosab-hassan-yousef mosab-hassan-yousef mosab-hassan-yousef  autobiographical autobiographical autobiographical  bio bio bio  calibre calibre calibre  inspirational inspirational inspirational  read-in-2011 read-in-2011 read-in-2011  political-science political-science political-science  books books  favorite favorite  spy spy  work work  very very  the the  someone someone  on on  interesting interesting  inside inside  a-very-interesting-work-by-someone a-very-interesting-work-by-someone  non-fiction-read non-fiction-read  current-affairs current-affairs  abandoned abandoned  book-club-read book-club-read  israel-and-palestine israel-and-palestine  to-get to-get  history-politics history-politics  choice-awards-10 choice-awards-10  christian-biography christian-biography  on-shelf on-shelf  dnf dnf  islam-middle-east islam-middle-east  unread unread  biographie biographie ;\n",
      "IS EBOOK: false;\n",
      "AVERAGE RATING: 4.12;\n",
      "SIMILAR BOOKS: Tears of a Clown: Glenn Beck and the Tea Bagging of America. Children of Dust: A Portrait of a Muslim as a Young Man. The History of Terrorism: From Antiquity to al Qaeda. The Post-American Presidency: The Obama Administration's War on America. Bearded Tit. Teaching the Pig to Dance: A Memoir of Growing Up and Second Chances. Dark Mysteries of the Vatican. Secret Believers: What Happens When Muslims Believe in Christ. Catch the Jew!. The Ayatollah Begs to Differ: The Paradox of Modern Iran. The Gates of November. A History of Zionism. A Time to Betray: The Astonishing Double Life of a CIA Agent Inside the Revolutionary Guards of Iran. Inside the Jihad: My Life with Al Qaeda. Once an Arafat Man: The True Story of How a PLO Sniper Found a New Life;\n",
      "LANGUAGE: eng;\n",
      "REVIEWS: {Review: Eye opening. Page turning. God is moving in Israel.; Votes: 0; Comments: 0; Rating: 5; \n",
      "Review: Fantastic book. It's good to see both sides of the story from one person who lived both sides. It kept me engrossed all throughout. It reads like a novel despite being offered up as non-fiction. I'm cautious as to how much of this is 100% fact, though I checked many of the sources and researched many of the claims that were fairly easy to verify and that much checked out. I do believe anyone who wants to weigh in on the current events going on in the Middle East should read this as it gives a pretty balanced view of both sides. Yousef speaks of the brutality of both sides of the issue as well as the good sides of both sides. Despite his father being a leader of a terrorist group he also shows that the man did so out of his own personal sense of honor. It will be interesting to see if and what Yousef has to say about current issues. I know he recently appeared on one of the news shows but I didn't see it. If the media outlets are smart they'll put this guy out there to get his opinions and views on what is going on.; Votes: 0; Comments: 0; Rating: 4;}.\n",
      "TITLE: Son of Hamas.\n",
      "TITLE WITHOUT SERIES: Son of Hamas\n",
      "----------------------------------------------------------------------------------------------------\n"
     ]
    }
   ],
   "source": [
    "for r in res:\n",
    "    print(f\"Title: {df[df['book_id'] == r[0]]['title'].item()}\\n\")\n",
    "    print(f\"Text: {df[df['book_id'] == r[0]]['text'].item()}\")\n",
    "    print('-'*100)"
   ]
  },
  {
   "cell_type": "code",
   "execution_count": null,
   "metadata": {},
   "outputs": [],
   "source": []
  }
 ],
 "metadata": {
  "kernelspec": {
   "display_name": "learn-env",
   "language": "python",
   "name": "python3"
  },
  "language_info": {
   "codemirror_mode": {
    "name": "ipython",
    "version": 3
   },
   "file_extension": ".py",
   "mimetype": "text/x-python",
   "name": "python",
   "nbconvert_exporter": "python",
   "pygments_lexer": "ipython3",
   "version": "3.10.12"
  }
 },
 "nbformat": 4,
 "nbformat_minor": 2
}
