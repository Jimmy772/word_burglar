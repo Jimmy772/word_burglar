{
 "cells": [
  {
   "cell_type": "code",
   "execution_count": 12,
   "metadata": {},
   "outputs": [
    {
     "data": {
      "text/plain": [
       "True"
      ]
     },
     "execution_count": 12,
     "metadata": {},
     "output_type": "execute_result"
    }
   ],
   "source": [
    "import pandas as pd\n",
    "import gzip\n",
    "import json\n",
    "import os\n",
    "import shutil\n",
    "from dotenv import load_dotenv\n",
    "from sqlalchemy import create_engine, inspect\n",
    "import calendar\n",
    "\n",
    "load_dotenv('../.env')"
   ]
  },
  {
   "cell_type": "markdown",
   "metadata": {},
   "source": [
    "Datasets directory"
   ]
  },
  {
   "cell_type": "code",
   "execution_count": 2,
   "metadata": {},
   "outputs": [],
   "source": [
    "DIR = '../data/external/'"
   ]
  },
  {
   "cell_type": "markdown",
   "metadata": {},
   "source": [
    "loading datasets"
   ]
  },
  {
   "cell_type": "code",
   "execution_count": 5,
   "metadata": {},
   "outputs": [],
   "source": [
    "books_path = os.path.join(DIR, 'goodreads_books_history_biography.json.gz')\n",
    "tmpfile = os.path.join(DIR, 'books.json')\n",
    "\n",
    "# Create temporary file\n",
    "with open(tmpfile, \"wb\") as tmp:\n",
    "    shutil.copyfileobj(gzip.open(books_path), tmp)\n",
    "    \n",
    "# dataframe from temporary file\n",
    "books = pd.read_json(tmpfile, lines=True)\n",
    "\n",
    "# delete temporary file\n",
    "os.remove(tmpfile)"
   ]
  },
  {
   "cell_type": "code",
   "execution_count": 3,
   "metadata": {},
   "outputs": [],
   "source": [
    "review_path = os.path.join(DIR, 'goodreads_reviews_history_biography.json.gz')\n",
    "tmpfile = os.path.join(DIR, 'reviews.json')\n",
    "\n",
    "# Create temporary file\n",
    "with open(tmpfile, \"wb\") as tmp:\n",
    "    shutil.copyfileobj(gzip.open(review_path), tmp)\n",
    "    \n",
    "# dataframe from temporary file\n",
    "reviews = pd.read_json(tmpfile, lines=True)\n",
    "\n",
    "# delete temporary file\n",
    "os.remove(tmpfile)"
   ]
  },
  {
   "cell_type": "code",
   "execution_count": 38,
   "metadata": {},
   "outputs": [],
   "source": [
    "db_url = f\"postgresql://{os.getenv('DB_USERNAME')}:{os.getenv('DB_PASSWORD')}@{os.getenv('DB_HOST')}:{os.getenv('DB_PORT')}/{os.getenv('DB_NAME')}\"\n",
    "engine = create_engine(db_url)"
   ]
  },
  {
   "cell_type": "markdown",
   "metadata": {},
   "source": [
    "Get columns in the tables in our database"
   ]
  },
  {
   "cell_type": "code",
   "execution_count": 39,
   "metadata": {},
   "outputs": [
    {
     "name": "stdout",
     "output_type": "stream",
     "text": [
      " == (books) ==\n",
      "Column Name: book_id, Type: INTEGER\n",
      "Column Name: title, Type: VARCHAR\n",
      "Column Name: ratings_count, Type: INTEGER\n",
      "Column Name: publication_year, Type: INTEGER\n",
      "Column Name: publication_month, Type: INTEGER\n",
      "Column Name: publication_day, Type: INTEGER\n",
      "Column Name: average_rating, Type: INTEGER\n",
      "Column Name: description, Type: VARCHAR\n",
      "Column Name: authors, Type: JSONB\n",
      " == (reviews) ==\n",
      "Column Name: book_id, Type: INTEGER\n",
      "Column Name: review_text, Type: VARCHAR\n",
      "Column Name: n_votes, Type: INTEGER\n",
      "Column Name: n_comments, Type: INTEGER\n",
      "Column Name: rating, Type: INTEGER\n"
     ]
    }
   ],
   "source": [
    "inspector = inspect(engine)\n",
    "db_tables = ['books', 'reviews']\n",
    "b_cols, r_cols = [],[]\n",
    "tables_cols = [b_cols, r_cols]\n",
    "for i, table in enumerate(db_tables):\n",
    "    columns = inspector.get_columns(table)\n",
    "    print(f' == ({table}) ==')\n",
    "    for col in columns:\n",
    "        print(f\"Column Name: {col['name']}, Type: {col['type']}\")\n",
    "        tables_cols[i].append(col['name'])"
   ]
  },
  {
   "cell_type": "markdown",
   "metadata": {},
   "source": [
    "populating tables in database"
   ]
  },
  {
   "cell_type": "code",
   "execution_count": 46,
   "metadata": {},
   "outputs": [
    {
     "data": {
      "text/plain": [
       "True"
      ]
     },
     "execution_count": 46,
     "metadata": {},
     "output_type": "execute_result"
    }
   ],
   "source": [
    "set(b_cols).issubset(set(books.columns))"
   ]
  },
  {
   "cell_type": "code",
   "execution_count": 49,
   "metadata": {},
   "outputs": [
    {
     "data": {
      "text/plain": [
       "True"
      ]
     },
     "execution_count": 49,
     "metadata": {},
     "output_type": "execute_result"
    }
   ],
   "source": [
    "set(r_cols).issubset(set(reviews.columns))"
   ]
  },
  {
   "cell_type": "markdown",
   "metadata": {},
   "source": [
    "convert `authors` column to json"
   ]
  },
  {
   "cell_type": "code",
   "execution_count": 70,
   "metadata": {},
   "outputs": [],
   "source": [
    "books['authors'] = books['authors'].apply(lambda x: json.dumps(x))"
   ]
  },
  {
   "cell_type": "code",
   "execution_count": 71,
   "metadata": {},
   "outputs": [
    {
     "data": {
      "text/plain": [
       "193"
      ]
     },
     "execution_count": 71,
     "metadata": {},
     "output_type": "execute_result"
    }
   ],
   "source": [
    "books[b_cols].to_sql('books', engine, if_exists='replace', index=False)\n",
    "reviews[r_cols].to_sql('reviews', engine, if_exists='replace', index=False)"
   ]
  }
 ],
 "metadata": {
  "kernelspec": {
   "display_name": "learn-env",
   "language": "python",
   "name": "python3"
  },
  "language_info": {
   "codemirror_mode": {
    "name": "ipython",
    "version": 3
   },
   "file_extension": ".py",
   "mimetype": "text/x-python",
   "name": "python",
   "nbconvert_exporter": "python",
   "pygments_lexer": "ipython3",
   "version": "3.10.12"
  }
 },
 "nbformat": 4,
 "nbformat_minor": 2
}
