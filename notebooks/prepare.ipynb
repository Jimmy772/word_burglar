{
 "cells": [
  {
   "cell_type": "code",
   "execution_count": 52,
   "metadata": {},
   "outputs": [],
   "source": [
    "import pandas as pd\n",
    "import gzip\n",
    "import json\n",
    "import os\n",
    "import shutil\n",
    "import calendar"
   ]
  },
  {
   "cell_type": "markdown",
   "metadata": {},
   "source": [
    "Datasets directory"
   ]
  },
  {
   "cell_type": "code",
   "execution_count": 2,
   "metadata": {},
   "outputs": [],
   "source": [
    "DIR = '../data/external/'"
   ]
  },
  {
   "cell_type": "markdown",
   "metadata": {},
   "source": [
    "loading datasets"
   ]
  },
  {
   "cell_type": "code",
   "execution_count": 3,
   "metadata": {},
   "outputs": [],
   "source": [
    "books_path = os.path.join(DIR, 'goodreads_books_history_biography.json.gz')\n",
    "tmpfile = os.path.join(DIR, 'books.json')\n",
    "\n",
    "# Create temporary file\n",
    "with open(tmpfile, \"wb\") as tmp:\n",
    "    shutil.copyfileobj(gzip.open(books_path), tmp)\n",
    "    \n",
    "# dataframe from temporary file\n",
    "books = pd.read_json(tmpfile, lines=True)\n",
    "\n",
    "# delete temporary file\n",
    "os.remove(tmpfile)"
   ]
  },
  {
   "cell_type": "code",
   "execution_count": 4,
   "metadata": {},
   "outputs": [],
   "source": [
    "review_path = os.path.join(DIR, 'goodreads_reviews_history_biography.json.gz')\n",
    "tmpfile = os.path.join(DIR, 'reviews.json')\n",
    "\n",
    "# Create temporary file\n",
    "with open(tmpfile, \"wb\") as tmp:\n",
    "    shutil.copyfileobj(gzip.open(review_path), tmp)\n",
    "    \n",
    "# dataframe from temporary file\n",
    "reviews = pd.read_json(tmpfile, lines=True)\n",
    "\n",
    "# delete temporary file\n",
    "os.remove(tmpfile)"
   ]
  },
  {
   "cell_type": "markdown",
   "metadata": {},
   "source": [
    "To streamline the handling of book information, we have created a dedicated function. This function is designed to consolidate all relevant details of a book into a single text block, simplifying access and management of this information for our analysis and processing."
   ]
  },
  {
   "cell_type": "markdown",
   "metadata": {},
   "source": [
    "Given our current focus on testing and refining our model's performance, we have opted to work with a small, carefully selected subset of our dataset. This deliberate choice enables us to efficiently assess our strategies and techniques without the computational overhead of processing the entire dataset. As we progress and gain confidence in our approach, we will extend our analyses to encompass the full dataset for more comprehensive insights."
   ]
  },
  {
   "cell_type": "code",
   "execution_count": 79,
   "metadata": {},
   "outputs": [],
   "source": [
    "smp = books.sample(random_state=1, n=1000)"
   ]
  },
  {
   "cell_type": "code",
   "execution_count": 102,
   "metadata": {},
   "outputs": [],
   "source": [
    "def get_shelves(x):\n",
    "    values = []\n",
    "    for _ in x:\n",
    "        value = list(_.values())\n",
    "        value = f\"{value[1]} \"*int(value[0])\n",
    "        values.append(value)\n",
    "    return ' '.join(map(str, values))\n",
    "\n",
    "def get_reviews(x):\n",
    "    cols = ['review_text', 'n_votes', 'n_comments', 'rating']\n",
    "    r = reviews[reviews['book_id'] == x][cols]\n",
    "    o = [] \n",
    "    for txt, votes, comments, rating in r.values:\n",
    "        info = \"Review: \" + txt + '; ' + \"Votes: \" + str(votes) + '; ' + \"Comments: \" + str(comments) + '; ' + \"Rating: \" + str(rating) + ';'\n",
    "        o.append(info)\n",
    "    return ' \\n'.join(map(str, o))\n",
    "\n",
    "def to_int(x):\n",
    "    try:\n",
    "        o = int(x)\n",
    "    except ValueError:\n",
    "        o = x\n",
    "    finally:\n",
    "        return o\n",
    "\n",
    "def get_mth(x): \n",
    "    x = to_int(x)\n",
    "    try:\n",
    "        o = calendar.month_name[x]\n",
    "    except TypeError:\n",
    "        o = 'Unknown'\n",
    "    finally:\n",
    "        return o\n",
    "\n",
    "def get_smlr_bks(similar_books):\n",
    "    if similar_books == []:\n",
    "        return \"None\"\n",
    "    else:\n",
    "        bks = [int(bk) for bk in similar_books]\n",
    "        smlr_bks = books[books['book_id'].isin(bks)]['title'].values\n",
    "        return '. '.join(map(str, smlr_bks))\n",
    "\n",
    "def upgrade_desc(DataFrame):\n",
    "    df = DataFrame.copy()\n",
    "    decription = \"Description: \" + df['description']\n",
    "    publisher = \";\\nPUBLISHER: \" + df['publisher']\n",
    "    publication_month = ';\\nPUBLICATION MONTH: ' + df['publication_month'].map(get_mth)\n",
    "    publication_day = ';\\nPUBLICATION DAY: ' + df['publication_day']\n",
    "    publication_year = \";\\nPUBLICATION YEAR: \" + df['publication_year']\n",
    "    num_pages = \";\\nNUMBER OF PAGES: \" + df['num_pages']\n",
    "    country_code = \";\\nCOUNTRY CODE: \" + df['country_code']\n",
    "    text_reviews_count = \";\\nREVIEW COUNT: \" + df['text_reviews_count'].astype(str)\n",
    "    popular_shelves = ';\\nSHELVES: ' + df['popular_shelves'].map(get_shelves)\n",
    "    is_ebook = \";\\nIS EBOOK: \" + df['is_ebook'].astype(str)\n",
    "    average_rating = \";\\nAVERAGE RATING: \" + df['average_rating'].astype(str)\n",
    "    similar_books = \";\\nSIMILAR BOOKS: \" + df['similar_books'].map(get_smlr_bks)\n",
    "    language_code = \";\\nLANGUAGE: \" + df['language_code']\n",
    "    review = \";\\nREVIEWS: {\" + df['book_id'].map(get_reviews) + '}'\n",
    "    title = \".\\nTITLE: \" + df['title']\n",
    "    title_without_series = \".\\nTITLE WITHOUT SERIES: \" + df['title_without_series']\n",
    "    text = (decription + publisher + publication_month + publication_year + publication_day\n",
    "            + num_pages + country_code + text_reviews_count\n",
    "            + popular_shelves + is_ebook + average_rating + similar_books\n",
    "            + language_code + review + title + title_without_series\n",
    "            )\n",
    "    df['text'] = text\n",
    "    return  df['text']\n",
    "_ = (upgrade_desc(smp.iloc[3:4]))"
   ]
  },
  {
   "cell_type": "code",
   "execution_count": 103,
   "metadata": {},
   "outputs": [
    {
     "name": "stdout",
     "output_type": "stream",
     "text": [
      "Description: Neni chvile odpocinku - boj o svedsky trun Orm a muzi z jeho prisezneho bratrstva ve ctvrtem dile Lowovy vikinske sagy bojuji... Prisezne bratrstvo zbohatlo a ziskalo si vehlas i uctu ve vikinskem svete. Slava ale prinasi take zavist a nepratele. Ormovo sidlo v Hestrengu je opet napadeno a on se musi i se svymi muzi stahnout do hor. Prisezni bratri ale nejsou zvykli vzdavat se. Vrati se, ale brzy si uvedomi, ze utocnici jen zdanlive chteli loupit. Ve hre je totiz mnohem vetsi korist - prave sjednocene Svedsko - a Orm s priseznymi bratry strezi kralovnu Sigrith, ktera ma brzy porodit dedice trunu.;\n",
      "PUBLISHER: BB art;\n",
      "PUBLICATION MONTH: Unknown;\n",
      "PUBLICATION YEAR: 2013;\n",
      "PUBLICATION DAY: ;\n",
      "NUMBER OF PAGES: ;\n",
      "COUNTRY CODE: US;\n",
      "REVIEW COUNT: 1;\n",
      "SHELVES: to-read to-read to-read to-read to-read to-read to-read to-read to-read to-read to-read to-read to-read to-read to-read to-read to-read to-read to-read to-read to-read to-read to-read to-read to-read to-read to-read to-read to-read to-read to-read to-read to-read to-read to-read to-read to-read to-read to-read to-read to-read to-read to-read to-read to-read to-read to-read to-read to-read to-read to-read to-read to-read to-read to-read to-read to-read to-read to-read to-read to-read to-read to-read to-read to-read to-read to-read to-read to-read to-read to-read to-read to-read to-read to-read to-read to-read to-read to-read to-read to-read to-read to-read to-read to-read to-read to-read to-read to-read to-read to-read to-read to-read to-read to-read to-read to-read to-read to-read to-read to-read to-read to-read to-read to-read to-read to-read to-read to-read to-read to-read to-read to-read to-read to-read to-read to-read to-read to-read to-read to-read to-read to-read to-read to-read to-read to-read to-read to-read to-read to-read to-read to-read to-read to-read to-read to-read to-read to-read to-read to-read to-read to-read to-read to-read to-read to-read to-read to-read to-read to-read to-read to-read to-read to-read to-read to-read to-read to-read to-read to-read to-read to-read to-read to-read to-read to-read to-read to-read to-read to-read to-read to-read to-read to-read to-read to-read to-read to-read to-read to-read to-read to-read to-read to-read to-read to-read to-read to-read to-read to-read to-read to-read to-read to-read to-read to-read to-read to-read to-read to-read to-read to-read to-read to-read to-read to-read to-read to-read to-read to-read to-read  historical-fiction historical-fiction historical-fiction historical-fiction historical-fiction historical-fiction historical-fiction historical-fiction historical-fiction historical-fiction historical-fiction historical-fiction historical-fiction historical-fiction historical-fiction historical-fiction historical-fiction historical-fiction historical-fiction historical-fiction historical-fiction historical-fiction historical-fiction historical-fiction historical-fiction historical-fiction historical-fiction historical-fiction historical-fiction historical-fiction historical-fiction historical-fiction historical-fiction historical-fiction historical-fiction historical-fiction historical-fiction historical-fiction historical-fiction historical-fiction historical-fiction historical-fiction historical-fiction historical-fiction historical-fiction historical-fiction historical-fiction historical-fiction  vikings vikings vikings vikings vikings vikings vikings vikings vikings vikings vikings vikings vikings vikings vikings vikings vikings vikings  fiction fiction fiction fiction fiction fiction fiction fiction fiction fiction  currently-reading currently-reading currently-reading currently-reading currently-reading currently-reading currently-reading  historical historical historical historical historical historical  robert-low robert-low robert-low robert-low robert-low robert-low  owned owned owned owned owned  viking viking viking viking viking  favorites favorites favorites favorites  ebook ebook ebook  adventure adventure adventure  series series series  read-2016 read-2016  read-next read-next  war war  mythology mythology  action action  default default  wish-list wish-list  norse norse  buy-next buy-next  history history  fantasy fantasy  shelf-later  to-buy  to-read-owned  books-to-read-next  series-obnf  historic  europe  in-library  books-i-need  to-read-own  my-collection  historic-fiction-wales  read-in-2010  selected  vikingr  paperback  półki-z-książkami  oathsworn  4-in-series  unread  electronic  in-calibre  can-t-ebooks  historic-viking-fiction  the-sea  at-home  to-read-hist-fic  verse-or-riddles  tragedy  survival  siege  setting-poland  setting-germany  religion  moral-ambiguity  male-pov  family  dark  battle  action-adventure  1st-person-narration  setting-sweden  viking-fiction  read-full-series  viking-era  penfield  hfa  sub  books  best  shelved  need-to-buy  rome  swords  reading-challenge-2015  set-aside-maybe-later  read-schlock  my-library  want  historical-fic-viking  read-2015  vikings-norse  i-own  own-completed-series  f-historical  my-favorites  got-it  books-in-waiting  reading-challenges-rmfao  on-disk  low-robert  ultimate-must-have  read-2012  my-books  fiction-historical  oathsworn-series ;\n",
      "IS EBOOK: false;\n",
      "AVERAGE RATING: 4.2;\n",
      "SIMILAR BOOKS: Sworn Sword (The Bloody Aftermath of 1066, #1). Mercenaries (The Conquest Trilogy, #1). The Last English King. The Bone Thief (Wulfgar, #1). Hawk Quest. The Fields Of Death (Revolution, #4). Captain of Rome (Masters of the Sea, #2). The Norseman (The Norseman Chronicles, #1). Odin's Wolves (Raven, #3). Holy Warrior (The Outlaw Chronicles, #2). King's Man (Viking, #3). Shieldwall (Conquest Trilogy, #1);\n",
      "LANGUAGE: cze;\n",
      "REVIEWS: {Review: Ani ctvrty dil me nezklamal, Orm a jeho bratrstvo me porad dokazou vtahnout k sobe do drakkaru :-) Tentokrat putuji do vnitrozemi dnesniho Polska, dostaneme se po Jantarove stezce skoro az do Ostravy. I kdyz je to porad dobre dobrodruzne ctivo, davam o hvezdicku min nez Bilemu havranovi. Ten se mi prece jen libil o neco vic, tady uz se mi zda, ze se autor trosku opakuje.; Votes: 0; Comments: 0; Rating: 3;}.\n",
      "TITLE: Dračí hlava.\n",
      "TITLE WITHOUT SERIES: Dračí hlava\n"
     ]
    }
   ],
   "source": [
    "print(_.values[0])"
   ]
  },
  {
   "cell_type": "code",
   "execution_count": 104,
   "metadata": {},
   "outputs": [],
   "source": [
    "smp['text'] = upgrade_desc(smp)"
   ]
  },
  {
   "cell_type": "markdown",
   "metadata": {},
   "source": [
    "Save final dataset"
   ]
  },
  {
   "cell_type": "code",
   "execution_count": null,
   "metadata": {},
   "outputs": [],
   "source": [
    "df = smp[['title','text', 'book_id']]"
   ]
  },
  {
   "cell_type": "code",
   "execution_count": null,
   "metadata": {},
   "outputs": [],
   "source": [
    "df.to_json(path_or_buf='../data/interim/books.json', orient='records')"
   ]
  }
 ],
 "metadata": {
  "kernelspec": {
   "display_name": "learn-env",
   "language": "python",
   "name": "python3"
  },
  "language_info": {
   "codemirror_mode": {
    "name": "ipython",
    "version": 3
   },
   "file_extension": ".py",
   "mimetype": "text/x-python",
   "name": "python",
   "nbconvert_exporter": "python",
   "pygments_lexer": "ipython3",
   "version": "3.10.12"
  }
 },
 "nbformat": 4,
 "nbformat_minor": 2
}
